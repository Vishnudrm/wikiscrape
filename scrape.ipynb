{
 "cells": [
  {
   "cell_type": "code",
   "execution_count": 70,
   "id": "91b76f74-8af8-4c95-9409-8fb9f26e7f20",
   "metadata": {},
   "outputs": [],
   "source": [
    "import requests\n",
    "from bs4 import BeautifulSoup\n",
    "import pandas as pd\n"
   ]
  },
  {
   "cell_type": "code",
   "execution_count": 71,
   "id": "b1bf2cf2-f640-42e1-823e-3694ad6eda00",
   "metadata": {},
   "outputs": [],
   "source": [
    "url = \"https://en.wikipedia.org/wiki/List_of_largest_companies_in_India\"\n",
    "response = requests.get(url)\n",
    "if response.status_code != 200:\n",
    "    print(\"Failed to fetch the webpage.\")\n",
    "    exit()\n",
    "\n"
   ]
  },
  {
   "cell_type": "code",
   "execution_count": 72,
   "id": "0052c3ad-15a1-47ed-ac4a-433cf37a2eb2",
   "metadata": {},
   "outputs": [],
   "source": [
    "soup = BeautifulSoup(response.content, \"html.parser\")\n",
    "table = soup.find(\"table\", {\"class\": \"wikitable\"})\n",
    "if not table:\n",
    "    print(\"Table not found on the page.\")\n",
    "    exit()"
   ]
  },
  {
   "cell_type": "code",
   "execution_count": 73,
   "id": "2902185c-39d9-4593-bd35-0b50b9dfa7ce",
   "metadata": {},
   "outputs": [],
   "source": [
    "headers = [header.text.strip() for header in table.find_all(\"th\")]\n",
    "rows = []\n",
    "for row in table.find_all(\"tr\")[1:]: \n",
    "    columns = row.find_all(\"td\")\n",
    "    row_data = [col.text.strip() for col in columns]\n",
    "    rows.append(row_data)\n"
   ]
  },
  {
   "cell_type": "code",
   "execution_count": 75,
   "id": "c32171c1-506c-4954-9992-5b94a6106643",
   "metadata": {},
   "outputs": [
    {
     "name": "stdout",
     "output_type": "stream",
     "text": [
      "Scraping complete. Data saved to 'top_companies_in_india.csv'.\n"
     ]
    }
   ],
   "source": [
    "df = pd.DataFrame(rows, columns=headers)\n",
    "\n",
    "df.to_csv(\"top_companies_in_india.csv\", index=False)\n",
    "\n",
    "print(\"Scraping complete. Data saved to 'top_companies_in_india.csv'.\")"
   ]
  },
  {
   "cell_type": "code",
   "execution_count": null,
   "id": "0135a3b6-e45e-4e88-a761-552f2f572f30",
   "metadata": {},
   "outputs": [],
   "source": []
  }
 ],
 "metadata": {
  "kernelspec": {
   "display_name": "Python 3 (ipykernel)",
   "language": "python",
   "name": "python3"
  },
  "language_info": {
   "codemirror_mode": {
    "name": "ipython",
    "version": 3
   },
   "file_extension": ".py",
   "mimetype": "text/x-python",
   "name": "python",
   "nbconvert_exporter": "python",
   "pygments_lexer": "ipython3",
   "version": "3.8.2"
  }
 },
 "nbformat": 4,
 "nbformat_minor": 5
}
